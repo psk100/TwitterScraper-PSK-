{
 "cells": [
  {
   "cell_type": "code",
   "execution_count": 73,
   "id": "be25e9b0",
   "metadata": {},
   "outputs": [],
   "source": [
    "# import libraries\n",
    "import urllib.request\n",
    "from bs4 import BeautifulSoup\n",
    "from selenium import webdriver\n",
    "from selenium.webdriver.common.keys import Keys\n",
    "from selenium.common.exceptions import NoSuchElementException\n",
    "from selenium.webdriver.common.by import By\n",
    "import time\n",
    "from getpass import getpass\n",
    "\n",
    "url = 'https://twitter.com/sachin_rt/likes'"
   ]
  },
  {
   "cell_type": "code",
   "execution_count": 74,
   "id": "a508f9cf",
   "metadata": {},
   "outputs": [
    {
     "name": "stderr",
     "output_type": "stream",
     "text": [
      "C:\\Users\\PSK\\AppData\\Local\\Temp/ipykernel_5892/2550929370.py:1: DeprecationWarning: executable_path has been deprecated, please pass in a Service object\n",
      "  driver = webdriver.Chrome('./chromedriver_win32103/chromedriver')\n"
     ]
    }
   ],
   "source": [
    "driver = webdriver.Chrome('./chromedriver_win32103/chromedriver')"
   ]
  },
  {
   "cell_type": "code",
   "execution_count": 75,
   "id": "484ebb16",
   "metadata": {},
   "outputs": [],
   "source": [
    "SampleOP={}\n",
    "def Twitterscraper(url):\n",
    "    driver.get(url)\n",
    "    time.sleep(2)\n",
    "    username=driver.find_elements(\"xpath\",\"//*[@data-testid='UserName']/div/div//span\")\n",
    "    utaddress=driver.find_elements(\"xpath\",\"//*[@data-testid='UserName']/div/div/div[2]//span\")\n",
    "    bio=driver.find_elements(\"xpath\",\"//*[@data-testid='UserDescription']//span\")\n",
    "    following=driver.find_elements(\"xpath\",\"//*[@data-testid='primaryColumn']/div/div[2]/div/div/div/div/div[5]//span/span\")\n",
    "    followers=driver.find_elements(\"xpath\",\"//*[@data-testid='primaryColumn']/div/div[2]/div/div/div/div/div[5]/div[2]//span/span\")\n",
    "    likes=driver.find_elements(\"xpath\",\"//*[@data-testid='primaryColumn']/div/div/div/div/div/div/div/div[2]/div/div\")\n",
    "    SampleOP[\"User Name\"]=username[0].text\n",
    "    SampleOP[\"Biography\"]=bio[0].text\n",
    "    SampleOP[\"Twiter Handler\"]=utaddress[0].text\n",
    "    SampleOP[\"Following\"]=following[0].text\n",
    "    SampleOP[\"Followers\"]=followers[0].text\n",
    "    SampleOP[\"Likes\"]=likes[0].text\n",
    "    return SampleOP"
   ]
  },
  {
   "cell_type": "code",
   "execution_count": 76,
   "id": "bda7f6e8",
   "metadata": {},
   "outputs": [],
   "source": [
    "loginurl=\"https://twitter.com/i/flow/login\""
   ]
  },
  {
   "cell_type": "code",
   "execution_count": 77,
   "id": "7763af27",
   "metadata": {},
   "outputs": [
    {
     "name": "stdout",
     "output_type": "stream",
     "text": [
      "username: pawansakhare101\n",
      "Password:········\n",
      "search term:\n"
     ]
    },
    {
     "data": {
      "text/plain": [
       "{'User Name': 'Sachin Tendulkar',\n",
       " 'Biography': 'Proud Indian',\n",
       " 'Twiter Handler': '@sachin_rt',\n",
       " 'Following': '81',\n",
       " 'Followers': '37.4M',\n",
       " 'Likes': '272 Likes'}"
      ]
     },
     "execution_count": 77,
     "metadata": {},
     "output_type": "execute_result"
    }
   ],
   "source": [
    "# application variables\n",
    "user = input('username: ')\n",
    "my_password = getpass('Password:')\n",
    "\n",
    "# navigate to login screen\n",
    "driver.get(loginurl)\n",
    "driver.maximize_window()\n",
    "time.sleep(5)\n",
    "username = driver.find_element(\"xpath\",'//input[@name=\"text\"]')\n",
    "username.send_keys(user)\n",
    "username.send_keys(Keys.RETURN)\n",
    "time.sleep(3)\n",
    "password = driver.find_element(\"xpath\",\"//input[@type='password']\")\n",
    "password.send_keys(my_password)\n",
    "password.send_keys(Keys.RETURN)\n",
    "\n",
    "time.sleep(2)\n",
    "Twitterscraper(url)"
   ]
  }
 ],
 "metadata": {
  "kernelspec": {
   "display_name": "Python 3 (ipykernel)",
   "language": "python",
   "name": "python3"
  },
  "language_info": {
   "codemirror_mode": {
    "name": "ipython",
    "version": 3
   },
   "file_extension": ".py",
   "mimetype": "text/x-python",
   "name": "python",
   "nbconvert_exporter": "python",
   "pygments_lexer": "ipython3",
   "version": "3.10.0"
  }
 },
 "nbformat": 4,
 "nbformat_minor": 5
}
